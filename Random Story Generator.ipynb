{
 "cells": [
  {
   "cell_type": "code",
   "execution_count": null,
   "metadata": {},
   "outputs": [],
   "source": [
    "import random\n",
    "print(\"Hello Reader\")\n",
    "\n",
    "readername = input(\"What is your name?\")\n",
    "print(\"Hello\"+ readername)\n",
    "\n",
    "names = [\"Arpita\", \"Shyam\", \"Trump\", \"Obama\", \"Modi\", \"Uno\", \"Ginger\"]\n",
    "places = [\"Pune\", \"Delhi\", \"Chennai\", \"Pondicherry\", \"Disneyland\", \"Pakistan\", \"USA\"]\n",
    "roles = [\"student\", \"teacher\", \"warrior\", \"witch\", \"farmer\", \"guitarist\", \"vocalist\", \"musician\"]\n",
    "quests = [\"slay the dragon\", \"beat the deadline\", \"seek the holy grail\"]\n",
    "\n",
    "randomname = random.choice(names)\n",
    "randomplace = random.choice(places)\n",
    "randomrole = random.choice(roles)\n",
    "randomquest = random.choice(quests)\n",
    "\n",
    "story = \"Once upon a time there was a\" + randomrole + \"called\" + randomname + \", who lived in\" + random.place + \". There was only one mission on his/her mind and it was to\" + random.quest + \".\"\n",
    "\n",
    "print(story)\n"
   ]
  },
  {
   "cell_type": "code",
   "execution_count": null,
   "metadata": {},
   "outputs": [],
   "source": []
  },
  {
   "cell_type": "code",
   "execution_count": null,
   "metadata": {},
   "outputs": [],
   "source": []
  },
  {
   "cell_type": "code",
   "execution_count": null,
   "metadata": {},
   "outputs": [],
   "source": []
  }
 ],
 "metadata": {
  "kernelspec": {
   "display_name": "Python 3",
   "language": "python",
   "name": "python3"
  },
  "language_info": {
   "codemirror_mode": {
    "name": "ipython",
    "version": 3
   },
   "file_extension": ".py",
   "mimetype": "text/x-python",
   "name": "python",
   "nbconvert_exporter": "python",
   "pygments_lexer": "ipython3",
   "version": "3.7.6"
  }
 },
 "nbformat": 4,
 "nbformat_minor": 4
}
